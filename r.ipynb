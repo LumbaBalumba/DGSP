{
 "cells": [
  {
   "cell_type": "code",
   "execution_count": 291,
   "id": "740680ba",
   "metadata": {},
   "outputs": [],
   "source": [
    "import cupy as cp"
   ]
  },
  {
   "cell_type": "code",
   "execution_count": 292,
   "id": "6a837837",
   "metadata": {},
   "outputs": [],
   "source": [
    "from dgsp.functions import Q, transition_gpu, observation_gpu"
   ]
  },
  {
   "cell_type": "code",
   "execution_count": 293,
   "id": "c0fced92",
   "metadata": {},
   "outputs": [],
   "source": [
    "transition = transition_gpu\n"
   ]
  },
  {
   "cell_type": "code",
   "execution_count": 294,
   "id": "fbdd20af",
   "metadata": {},
   "outputs": [],
   "source": [
    "observation = observation_gpu"
   ]
  },
  {
   "cell_type": "code",
   "execution_count": 295,
   "id": "9cfec0f1",
   "metadata": {},
   "outputs": [],
   "source": [
    "dt = 1e-3"
   ]
  },
  {
   "cell_type": "code",
   "execution_count": 296,
   "id": "121e3e35",
   "metadata": {},
   "outputs": [],
   "source": [
    "particles = cp.random.multivariate_normal(mean = cp.zeros(6), cov=cp.diag(cp.ones(6)), size=1000)"
   ]
  },
  {
   "cell_type": "code",
   "execution_count": 297,
   "id": "7915c486",
   "metadata": {},
   "outputs": [],
   "source": [
    "x1 = transition(particles.T, 0).reshape((6, 1000)).T.reshape((1000, 6 )) * dt + particles"
   ]
  },
  {
   "cell_type": "code",
   "execution_count": 298,
   "id": "39fd30d8",
   "metadata": {},
   "outputs": [],
   "source": [
    "x2 = cp.apply_along_axis(lambda x: transition(x, 0), arr=particles, axis=1) * dt + particles"
   ]
  },
  {
   "cell_type": "code",
   "execution_count": 299,
   "id": "1ceb114d",
   "metadata": {},
   "outputs": [
    {
     "data": {
      "text/plain": [
       "array(True)"
      ]
     },
     "execution_count": 299,
     "metadata": {},
     "output_type": "execute_result"
    }
   ],
   "source": [
    "cp.allclose(x1, x2)"
   ]
  },
  {
   "cell_type": "code",
   "execution_count": 300,
   "id": "1c372bc0",
   "metadata": {},
   "outputs": [
    {
     "data": {
      "text/plain": [
       "(1000, 6)"
      ]
     },
     "execution_count": 300,
     "metadata": {},
     "output_type": "execute_result"
    }
   ],
   "source": [
    "x1.shape"
   ]
  },
  {
   "cell_type": "code",
   "execution_count": 301,
   "id": "9a9fafe1",
   "metadata": {},
   "outputs": [
    {
     "data": {
      "text/plain": [
       "(1000, 6)"
      ]
     },
     "execution_count": 301,
     "metadata": {},
     "output_type": "execute_result"
    }
   ],
   "source": [
    "x2.shape"
   ]
  },
  {
   "cell_type": "code",
   "execution_count": 302,
   "id": "b2893cb4",
   "metadata": {},
   "outputs": [],
   "source": [
    "import matplotlib.pyplot as plt"
   ]
  },
  {
   "cell_type": "code",
   "execution_count": null,
   "id": "3c4ab65e",
   "metadata": {},
   "outputs": [],
   "source": [
    "traj = "
   ]
  }
 ],
 "metadata": {
  "kernelspec": {
   "display_name": ".venv",
   "language": "python",
   "name": "python3"
  },
  "language_info": {
   "codemirror_mode": {
    "name": "ipython",
    "version": 3
   },
   "file_extension": ".py",
   "mimetype": "text/x-python",
   "name": "python",
   "nbconvert_exporter": "python",
   "pygments_lexer": "ipython3",
   "version": "3.13.7"
  }
 },
 "nbformat": 4,
 "nbformat_minor": 5
}
