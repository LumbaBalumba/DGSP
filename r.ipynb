{
 "cells": [
  {
   "cell_type": "code",
   "execution_count": 160,
   "id": "d15643bb",
   "metadata": {},
   "outputs": [],
   "source": [
    "import cupy as cp"
   ]
  },
  {
   "cell_type": "code",
   "execution_count": 161,
   "id": "a5b90818",
   "metadata": {},
   "outputs": [],
   "source": [
    "import numpy as np"
   ]
  },
  {
   "cell_type": "code",
   "execution_count": 162,
   "id": "293ab75e",
   "metadata": {},
   "outputs": [],
   "source": [
    "import sympy as sp"
   ]
  },
  {
   "cell_type": "code",
   "execution_count": 163,
   "id": "c897e1e7",
   "metadata": {},
   "outputs": [],
   "source": [
    "z = sp.IndexedBase('z')"
   ]
  },
  {
   "cell_type": "code",
   "execution_count": 164,
   "id": "ff61fe9d",
   "metadata": {},
   "outputs": [],
   "source": [
    "x1, x2, theta, phi, t, = [z[i] for i in range(5)]\n",
    "x = sp.Matrix([x1, x2, theta, phi])"
   ]
  },
  {
   "cell_type": "code",
   "execution_count": 165,
   "id": "fb3fff94",
   "metadata": {},
   "outputs": [],
   "source": [
    "l = 0.1\n",
    "u1 = sp.Float(3.0)\n",
    "u2 = 0.0"
   ]
  },
  {
   "cell_type": "code",
   "execution_count": 166,
   "id": "2fc270eb",
   "metadata": {},
   "outputs": [],
   "source": [
    "sp_transition = sp.Matrix(\n",
    "    [\n",
    "        sp.cos(theta) * sp.cos(phi) * u1,\n",
    "        sp.sin(theta) * sp.cos(phi) * u1,\n",
    "        sp.sin(phi) * u1 / l,\n",
    "        u2,\n",
    "    ]\n",
    ")"
   ]
  },
  {
   "cell_type": "code",
   "execution_count": 167,
   "id": "d9526e7c",
   "metadata": {},
   "outputs": [],
   "source": [
    "f = sp.lambdify(z, sp_transition.tolist(), 'cupy')"
   ]
  },
  {
   "cell_type": "code",
   "execution_count": 168,
   "id": "c078fd1b",
   "metadata": {},
   "outputs": [],
   "source": [
    "args = cp.zeros(5)"
   ]
  },
  {
   "cell_type": "code",
   "execution_count": 169,
   "id": "6cfc9f5e",
   "metadata": {},
   "outputs": [
    {
     "data": {
      "text/plain": [
       "[[array(3.)], [array(0.)], [array(0.)], [0.0]]"
      ]
     },
     "execution_count": 169,
     "metadata": {},
     "output_type": "execute_result"
    }
   ],
   "source": [
    "f(args)"
   ]
  },
  {
   "cell_type": "code",
   "execution_count": 178,
   "id": "5a7ac16a",
   "metadata": {},
   "outputs": [
    {
     "data": {
      "text/plain": [
       "array([3., 0., 0., 0., 3., 0.])"
      ]
     },
     "execution_count": 178,
     "metadata": {},
     "output_type": "execute_result"
    }
   ],
   "source": [
    "import sympy as sp\n",
    "import cupy as cp\n",
    "\n",
    "# --- 1) Your original symbolic matrix (example from your screenshots) ---\n",
    "x1, x2, theta, phi, u1, u2, t = sp.symbols(r'x_1 x_2 theta phi u_1 u_2 t')\n",
    "l = 0.1\n",
    "\n",
    "sp_transition = sp.Matrix([\n",
    "    sp.cos(theta) * sp.cos(phi) * u1,\n",
    "    sp.sin(theta) * sp.cos(phi) * u1,\n",
    "    sp.sin(phi)   * u1 / l,\n",
    "    u2,\n",
    "    u1,\n",
    "    u2,\n",
    "])\n",
    "\n",
    "# --- 2) Vectorize inputs: make the matrix depend on one vector x and scalar t ---\n",
    "x = sp.IndexedBase('x')  # single vector argument\n",
    "subs = {x1: x[0], x2: x[1], theta: x[2], phi: x[3], u1: x[4], u2: x[5]}\n",
    "sp_transition_vecin = sp_transition.xreplace(subs)\n",
    "\n",
    "# Compile to a CuPy function that takes (x, t)\n",
    "F_raw = sp.lambdify((x, t), sp_transition_vecin, modules='cupy')\n",
    "\n",
    "# --- 3) Nice Python wrapper: one CuPy vector in -> one CuPy vector out ---\n",
    "def transition(x_vec: cp.ndarray, t_val: float) -> cp.ndarray:\n",
    "    \"\"\"\n",
    "    x_vec : CuPy array with shape (6,) or (6,1)\n",
    "    t_val : Python float (or NumPy/CuPy scalar)\n",
    "    returns: CuPy array with shape (6,)\n",
    "    \"\"\"\n",
    "    y = F_raw(x_vec, t_val)         # SymPy emits a CuPy array (typically shape (6, 1))\n",
    "    return cp.asarray(y).reshape(-1)\n",
    "\n",
    "# --- Example usage ---\n",
    "x0 = cp.asarray([0.0, 0.0, 0.0, 0.0, 3.0, 0.0], dtype=cp.float64)\n",
    "y0 = transition(x0, 0.0)            # y0 is a cupy.ndarray\n",
    "# y0.shape == (6,)\n",
    "y0"
   ]
  }
 ],
 "metadata": {
  "kernelspec": {
   "display_name": ".venv",
   "language": "python",
   "name": "python3"
  },
  "language_info": {
   "codemirror_mode": {
    "name": "ipython",
    "version": 3
   },
   "file_extension": ".py",
   "mimetype": "text/x-python",
   "name": "python",
   "nbconvert_exporter": "python",
   "pygments_lexer": "ipython3",
   "version": "3.13.7"
  }
 },
 "nbformat": 4,
 "nbformat_minor": 5
}
